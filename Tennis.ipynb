{
 "cells": [
  {
   "cell_type": "markdown",
   "metadata": {},
   "source": [
    "# Collaboration and Competition\n",
    "\n",
    "---\n",
    "\n",
    "You are welcome to use this coding environment to train your agent for the project.  Follow the instructions below to get started!\n",
    "\n",
    "### 1. Start the Environment\n",
    "\n",
    "Run the next code cell to install a few packages.  This line will take a few minutes to run!"
   ]
  },
  {
   "cell_type": "markdown",
   "metadata": {},
   "source": [
    "The environment is already saved in the Workspace and can be accessed at the file path provided below. "
   ]
  },
  {
   "cell_type": "code",
   "execution_count": 1,
   "metadata": {},
   "outputs": [
    {
     "name": "stderr",
     "output_type": "stream",
     "text": [
      "INFO:unityagents:\n",
      "'Academy' started successfully!\n",
      "Unity Academy name: Academy\n",
      "        Number of Brains: 1\n",
      "        Number of External Brains : 1\n",
      "        Lesson number : 0\n",
      "        Reset Parameters :\n",
      "\t\t\n",
      "Unity brain name: TennisBrain\n",
      "        Number of Visual Observations (per agent): 0\n",
      "        Vector Observation space type: continuous\n",
      "        Vector Observation space size (per agent): 8\n",
      "        Number of stacked Vector Observation: 3\n",
      "        Vector Action space type: continuous\n",
      "        Vector Action space size (per agent): 2\n",
      "        Vector Action descriptions: , \n"
     ]
    }
   ],
   "source": [
    "from unityagents import UnityEnvironment\n",
    "import numpy as np\n",
    "\n",
    "env = UnityEnvironment(file_name=\"./Tennis_Linux/Tennis\")"
   ]
  },
  {
   "cell_type": "markdown",
   "metadata": {},
   "source": [
    "Environments contain **_brains_** which are responsible for deciding the actions of their associated agents. Here we check for the first brain available, and set it as the default brain we will be controlling from Python."
   ]
  },
  {
   "cell_type": "code",
   "execution_count": 2,
   "metadata": {},
   "outputs": [],
   "source": [
    "# get the default brain\n",
    "brain_name = env.brain_names[0]\n",
    "brain = env.brains[brain_name]"
   ]
  },
  {
   "cell_type": "markdown",
   "metadata": {},
   "source": [
    "### 2. Examine the State and Action Spaces\n",
    "\n",
    "Run the code cell below to print some information about the environment."
   ]
  },
  {
   "cell_type": "code",
   "execution_count": 3,
   "metadata": {},
   "outputs": [
    {
     "name": "stdout",
     "output_type": "stream",
     "text": [
      "Number of agents: 2\n",
      "Size of each action: 2\n",
      "There are 2 agents. Each observes a state with length: 24\n",
      "The state for the first agent looks like: [ 0.          0.          0.          0.          0.          0.\n",
      "  0.          0.          0.          0.          0.          0.\n",
      "  0.          0.          0.          0.         -6.65278625 -1.5\n",
      " -0.          0.          6.83172083  6.         -0.          0.        ]\n"
     ]
    }
   ],
   "source": [
    "# reset the environment\n",
    "env_info = env.reset(train_mode=True)[brain_name]\n",
    "\n",
    "# number of agents \n",
    "num_agents = len(env_info.agents)\n",
    "print('Number of agents:', num_agents)\n",
    "\n",
    "# size of each action\n",
    "env_action_size = brain.vector_action_space_size\n",
    "print('Size of each action:', env_action_size)\n",
    "\n",
    "# examine the state space \n",
    "states = env_info.vector_observations\n",
    "env_state_size = states.shape[1]\n",
    "print('There are {} agents. Each observes a state with length: {}'.format(states.shape[0], env_state_size))\n",
    "print('The state for the first agent looks like:', states[0])"
   ]
  },
  {
   "cell_type": "markdown",
   "metadata": {},
   "source": [
    "### 3. Take Random Actions in the Environment\n",
    "\n",
    "In the next code cell, you will learn how to use the Python API to control the agent and receive feedback from the environment.\n",
    "\n",
    "Note that **in this coding environment, you will not be able to watch the agents while they are training**, and you should set `train_mode=True` to restart the environment."
   ]
  },
  {
   "cell_type": "code",
   "execution_count": 4,
   "metadata": {},
   "outputs": [
    {
     "name": "stdout",
     "output_type": "stream",
     "text": [
      "Total score (averaged over agents) this episode: -0.004999999888241291\n",
      "Total score (averaged over agents) this episode: -0.004999999888241291\n",
      "Total score (averaged over agents) this episode: -0.004999999888241291\n",
      "Total score (averaged over agents) this episode: 0.04500000085681677\n",
      "Total score (averaged over agents) this episode: -0.004999999888241291\n"
     ]
    }
   ],
   "source": [
    "for i in range(5):                                         # play game for 5 episodes\n",
    "    env_info = env.reset(train_mode=False)[brain_name]     # reset the environment    \n",
    "    states = env_info.vector_observations                  # get the current state (for each agent)\n",
    "    scores = np.zeros(num_agents)                          # initialize the score (for each agent)\n",
    "    while True:\n",
    "        actions = np.random.randn(num_agents, env_action_size) # select an action (for each agent)\n",
    "        actions = np.clip(actions, -1, 1)                  # all actions between -1 and 1\n",
    "        env_info = env.step(actions)[brain_name]           # send all actions to tne environment\n",
    "        next_states = env_info.vector_observations         # get next state (for each agent)\n",
    "        rewards = env_info.rewards                         # get reward (for each agent)\n",
    "        dones = env_info.local_done                        # see if episode finished\n",
    "        scores += env_info.rewards                         # update the score (for each agent)\n",
    "        states = next_states                               # roll over states to next time step\n",
    "        if np.any(dones):                                  # exit loop if episode finished\n",
    "            break\n",
    "    print('Total score (averaged over agents) this episode: {}'.format(np.mean(scores)))"
   ]
  },
  {
   "cell_type": "markdown",
   "metadata": {},
   "source": [
    "When finished, you can close the environment."
   ]
  },
  {
   "cell_type": "code",
   "execution_count": null,
   "metadata": {},
   "outputs": [],
   "source": [
    "env.close()"
   ]
  },
  {
   "cell_type": "markdown",
   "metadata": {},
   "source": [
    "### 4. Train the Agent\n",
    "\n",
    "Now it's your turn to train your own agent to solve the environment!  A few **important notes**:\n",
    "- When training the environment, set `train_mode=True`, so that the line for resetting the environment looks like the following:\n",
    "```python\n",
    "env_info = env.reset(train_mode=True)[brain_name]\n",
    "```"
   ]
  },
  {
   "cell_type": "code",
   "execution_count": 4,
   "metadata": {},
   "outputs": [],
   "source": [
    "# Imports\n",
    "import random\n",
    "import torch\n",
    "\n",
    "import os\n",
    "import numpy as np\n",
    "from collections import deque\n",
    "import time\n",
    "import matplotlib.pyplot as plt\n",
    "\n",
    "# Set plotting options\n",
    "%matplotlib inline\n",
    "plt.style.use('ggplot')\n",
    "np.set_printoptions(precision=3, linewidth=120)\n",
    "\n",
    "# Hide Matplotlib deprecate warnings\n",
    "import warnings\n",
    "warnings.filterwarnings(\"ignore\")\n",
    "\n",
    "# High resolution plot outputs for retina display\n",
    "%config InlineBackend.figure_format = 'retina'\n",
    " "
   ]
  },
  {
   "cell_type": "code",
   "execution_count": 6,
   "metadata": {},
   "outputs": [],
   "source": [
    "from maddpg_agents import Maddpg\n",
    "from dict_hyperparams  import *\n",
    "\n",
    "def maddpg_train(n_episodes=10000, max_t=1000, print_every=100, random_seed=10, nameModel = \"\"):  \n",
    "    \n",
    "    # Seeding\n",
    "    np.random.seed(random_seed)\n",
    "    torch.manual_seed(random_seed)\n",
    "\n",
    "    # Instantiate the MADDPG agents\n",
    "    maddpg = Maddpg(env_state_size, env_action_size, num_agents, random_seed)\n",
    "\n",
    "    # Monitor the score    \n",
    "    scores_deque = deque(maxlen=print_every)\n",
    "    all_scores = []\n",
    "    all_avg_score = []\n",
    "    \n",
    "    \n",
    "    # Training Loop\n",
    "    for i_episode in range(n_episodes+1):  \n",
    "             \n",
    "        env_info = env.reset(train_mode=True)[brain_name]          # reset the environment  \n",
    "        maddpg.reset()                                             # reset the agents \n",
    "            \n",
    "        states = env_info.vector_observations                      # get the current state for each agent \n",
    "        scores = np.zeros(num_agents)                              # initialize the score (for each agent)\n",
    "\n",
    "        for steps in range(max_t):\n",
    "\n",
    "            actions = maddpg.act(states)                    # retrieve actions to performe for each agents\n",
    "            env_info = env.step(actions)[brain_name]               # send all actions to tne environment\n",
    "            next_states = env_info.vector_observations             # get next state for each agent\n",
    "            rewards = env_info.rewards                             # get reward (for each agent)\n",
    "            dones = env_info.local_done                            # see if episode finished\n",
    "            \n",
    "            # Save experience in replay memory, and use random sample from buffer to learn\n",
    "            maddpg.step(states, actions, rewards, next_states, dones, i_episode)  \n",
    "\n",
    "            scores += env_info.rewards                             # update the score (for each agent)\n",
    "            states = next_states                                   # roll over states to next time step\n",
    "            if np.any(dones):                                      # exit loop if episode finished\n",
    "                break\n",
    "        \n",
    "        # Save scores and compute average score over last n episodes       \n",
    "        episode_score  = np.max(scores)  # Consider the maximum score amongs all Agents\n",
    "        all_scores.append(episode_score)\n",
    "        scores_deque.append(episode_score)\n",
    "        avg_score = np.mean(scores_deque)\n",
    "\n",
    "        # Display statistics \n",
    "        print('\\rEpisode {}\\tAverage Score: {:.2f}\\tEpisode score (max over agents): {:.2f}'.format(i_episode, avg_score, episode_score), end=\"\")\n",
    "        if i_episode>0 and i_episode % print_every == 0:\n",
    "            print('\\rEpisode {}\\tAverage Score: {:.2f} '.format(i_episode, avg_score))\n",
    "            maddpg.save_checkpoints(nameModel)\n",
    "            all_avg_score.append(avg_score)\n",
    "        \n",
    "        # Early stop\n",
    "        if (i_episode>print_every-1) and (avg_score >=0.5):\n",
    "            print('\\rEnvironment solved in {} episodes with an Average Score of {:.2f}'.format(i_episode, avg_score))\n",
    "            maddpg.save_checkpoints(nameModel)\n",
    "            return all_scores\n",
    "\n",
    "    return all_scores\n"
   ]
  },
  {
   "cell_type": "code",
   "execution_count": 7,
   "metadata": {},
   "outputs": [],
   "source": [
    "def plot_training(scores):\n",
    "    # Plot the Score evolution during the training\n",
    "    fig = plt.figure()\n",
    "    ax = fig.add_subplot(111)\n",
    "    ax.tick_params(axis='x', colors='deepskyblue')\n",
    "    ax.tick_params(axis='y', colors='deepskyblue')\n",
    "    plt.plot(np.arange(1, len(scores)+1), scores, color='deepskyblue')\n",
    "    plt.ylabel('Score', color='deepskyblue')\n",
    "    plt.xlabel('Episode #', color='deepskyblue')\n",
    "    plt.show()"
   ]
  },
  {
   "cell_type": "code",
   "execution_count": 18,
   "metadata": {},
   "outputs": [
    {
     "name": "stdout",
     "output_type": "stream",
     "text": [
      "Episode 100\tAverage Score: 0.00 Episode score (max over agents): 0.00\n",
      "Episode 200\tAverage Score: 0.00 Episode score (max over agents): 0.00\n",
      "Episode 300\tAverage Score: 0.00 Episode score (max over agents): 0.00\n",
      "Episode 400\tAverage Score: 0.00 Episode score (max over agents): 0.00\n",
      "Episode 500\tAverage Score: 0.00 Episode score (max over agents): 0.00\n",
      "Episode 600\tAverage Score: 0.00 Episode score (max over agents): 0.00\n",
      "Episode 700\tAverage Score: 0.01 Episode score (max over agents): 0.00\n",
      "Episode 800\tAverage Score: 0.01 Episode score (max over agents): 0.00\n",
      "Episode 900\tAverage Score: 0.02 Episode score (max over agents): 0.00\n",
      "Episode 1000\tAverage Score: 0.00 Episode score (max over agents): 0.00\n",
      "Episode 1100\tAverage Score: 0.00 Episode score (max over agents): 0.00\n",
      "Episode 1200\tAverage Score: 0.01 Episode score (max over agents): 0.09\n",
      "Episode 1300\tAverage Score: 0.00 Episode score (max over agents): 0.00\n",
      "Episode 1400\tAverage Score: 0.00 Episode score (max over agents): 0.00\n",
      "Episode 1500\tAverage Score: 0.02 Episode score (max over agents): 0.00\n",
      "Episode 1600\tAverage Score: 0.05 Episode score (max over agents): 0.09\n",
      "Episode 1700\tAverage Score: 0.04 Episode score (max over agents): 0.00\n",
      "Episode 1800\tAverage Score: 0.02 Episode score (max over agents): 0.00\n",
      "Episode 1900\tAverage Score: 0.04 Episode score (max over agents): 0.00\n",
      "Episode 2000\tAverage Score: 0.03 Episode score (max over agents): 0.00\n",
      "Episode 2100\tAverage Score: 0.04 Episode score (max over agents): 0.10\n",
      "Episode 2200\tAverage Score: 0.02 Episode score (max over agents): 0.00\n",
      "Episode 2300\tAverage Score: 0.06 Episode score (max over agents): 0.00\n",
      "Episode 2400\tAverage Score: 0.08 Episode score (max over agents): 0.10\n",
      "Episode 2500\tAverage Score: 0.09 Episode score (max over agents): 0.09\n",
      "Episode 2600\tAverage Score: 0.09 Episode score (max over agents): 0.10\n",
      "Episode 2700\tAverage Score: 0.10 Episode score (max over agents): 0.09\n",
      "Episode 2800\tAverage Score: 0.10 Episode score (max over agents): 0.10\n",
      "Episode 2900\tAverage Score: 0.08 Episode score (max over agents): 0.10\n",
      "Episode 3000\tAverage Score: 0.13 Episode score (max over agents): 0.09\n",
      "Episode 3100\tAverage Score: 0.19 Episode score (max over agents): 1.00\n",
      "Episode 3200\tAverage Score: 0.41 Episode score (max over agents): 0.29\n",
      "Environment solved in 3238 episodes with an Average Score of 0.52 2.70\n"
     ]
    },
    {
     "data": {
      "image/png": "[encoded data removed]",
      "text/plain": [
       "<Figure size 432x288 with 1 Axes>"
      ]
     },
     "metadata": {
      "image/png": {
       "height": 264,
       "width": 388
      }
     },
     "output_type": "display_data"
    }
   ],
   "source": [
    "scores = maddpg_train(n_episodes=3500, max_t=1000, print_every=100, random_seed=10, \n",
    "                      nameModel = \"v5\")\n",
    "plot_training(scores)"
   ]
  },
  {
   "cell_type": "markdown",
   "metadata": {},
   "source": [
    "### 4. Watch a Trained Agent"
   ]
  },
  {
   "cell_type": "code",
   "execution_count": 8,
   "metadata": {},
   "outputs": [],
   "source": [
    "\n",
    "maddpg = Maddpg(env_state_size, env_action_size, 2, 10)\n",
    "for idx, agent in enumerate(maddpg.agents):\n",
    "    actor_local_filename = 'Models/checkpoint_actor_local_v5_'+ str(idx) + '.pth'\n",
    "    critic_local_filename = 'Models/checkpoint_critic_local_v5_'+ str(idx) + '.pth'  \n",
    "    \n",
    "    agent.actor_local.load_state_dict(torch.load(actor_local_filename))\n",
    "    agent.critic_local.load_state_dict(torch.load(critic_local_filename))\n",
    "            "
   ]
  },
  {
   "cell_type": "code",
   "execution_count": 9,
   "metadata": {},
   "outputs": [
    {
     "name": "stdout",
     "output_type": "stream",
     "text": [
      "Total score (averaged over agents) this episode: 2.600000038743019\n",
      "Total score (averaged over agents) this episode: 2.600000038743019\n",
      "Total score (averaged over agents) this episode: 2.600000038743019\n",
      "Total score (averaged over agents) this episode: 0.8450000127777457\n",
      "Total score (averaged over agents) this episode: 2.550000037997961\n"
     ]
    }
   ],
   "source": [
    "for i in range(5):                                         # play game for 5 episodes\n",
    "    env_info = env.reset(train_mode=False)[brain_name]     # reset the environment    \n",
    "    states = env_info.vector_observations                  # get the current state (for each agent)\n",
    "    scores = np.zeros(num_agents)                          # initialize the score (for each agent)\n",
    "    while True:\n",
    "        actions = maddpg.act(states) # select an action (for each agent)\n",
    "        #actions = np.clip(actions, -1, 1)                  # all actions between -1 and 1\n",
    "        env_info = env.step(actions)[brain_name]           # send all actions to tne environment\n",
    "        next_states = env_info.vector_observations         # get next state (for each agent)\n",
    "        rewards = env_info.rewards                         # get reward (for each agent)\n",
    "        dones = env_info.local_done                        # see if episode finished\n",
    "        scores += env_info.rewards                         # update the score (for each agent)\n",
    "        states = next_states                               # roll over states to next time step\n",
    "        if np.any(dones):                                  # exit loop if episode finished\n",
    "            break\n",
    "    print('Total score (averaged over agents) this episode: {}'.format(np.mean(scores)))"
   ]
  },
  {
   "cell_type": "code",
   "execution_count": null,
   "metadata": {},
   "outputs": [],
   "source": []
  }
 ],
 "metadata": {
  "kernelspec": {
   "display_name": "Python 3 (ipykernel)",
   "language": "python",
   "name": "python3"
  },
  "language_info": {
   "codemirror_mode": {
    "name": "ipython",
    "version": 3
   },
   "file_extension": ".py",
   "mimetype": "text/x-python",
   "name": "python",
   "nbconvert_exporter": "python",
   "pygments_lexer": "ipython3",
   "version": "3.6.13"
  }
 },
 "nbformat": 4,
 "nbformat_minor": 2
}
